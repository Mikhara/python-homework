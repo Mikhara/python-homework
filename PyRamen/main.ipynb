{
 "cells": [
  {
   "cell_type": "code",
   "execution_count": 34,
   "id": "535023ee",
   "metadata": {
    "tags": []
   },
   "outputs": [
    {
     "name": "stdout",
     "output_type": "stream",
     "text": [
      "Current Working Directory:/Users/mikhararamsing/Unit-2-Homework-Assignment/python-homework\n"
     ]
    },
    {
     "data": {
      "text/plain": [
       "PosixPath('/Users/mikhararamsing/Unit-2-Homework-Assignment/python-homework')"
      ]
     },
     "execution_count": 34,
     "metadata": {},
     "output_type": "execute_result"
    }
   ],
   "source": [
    "from pathlib import Path\n",
    "print (f\"Current Working Directory:{Path.cwd()}\")\n",
    "Path.cwd()"
   ]
  },
  {
   "cell_type": "code",
   "execution_count": 35,
   "id": "ff77d801",
   "metadata": {},
   "outputs": [],
   "source": [
    "import numpy as np"
   ]
  },
  {
   "cell_type": "code",
   "execution_count": 36,
   "id": "fb7a87f4",
   "metadata": {},
   "outputs": [
    {
     "name": "stdout",
     "output_type": "stream",
     "text": [
      "Requirement already satisfied: pandas in /Users/mikhararamsing/opt/anaconda3/envs/dev/lib/python3.9/site-packages (1.2.4)\n",
      "Requirement already satisfied: numpy>=1.16.5 in /Users/mikhararamsing/opt/anaconda3/envs/dev/lib/python3.9/site-packages (from pandas) (1.19.2)\n",
      "Requirement already satisfied: python-dateutil>=2.7.3 in /Users/mikhararamsing/opt/anaconda3/envs/dev/lib/python3.9/site-packages (from pandas) (2.8.1)\n",
      "Requirement already satisfied: pytz>=2017.3 in /Users/mikhararamsing/opt/anaconda3/envs/dev/lib/python3.9/site-packages (from pandas) (2021.1)\n",
      "Requirement already satisfied: six>=1.5 in /Users/mikhararamsing/opt/anaconda3/envs/dev/lib/python3.9/site-packages (from python-dateutil>=2.7.3->pandas) (1.15.0)\n"
     ]
    }
   ],
   "source": [
    "!pip install pandas"
   ]
  },
  {
   "cell_type": "code",
   "execution_count": 37,
   "id": "dc9a0287",
   "metadata": {},
   "outputs": [],
   "source": [
    "import pandas as pd"
   ]
  },
  {
   "cell_type": "raw",
   "id": "29dad9e1",
   "metadata": {},
   "source": [
    "#dir(pd)"
   ]
  },
  {
   "cell_type": "code",
   "execution_count": 38,
   "id": "55b8cf5c",
   "metadata": {
    "tags": []
   },
   "outputs": [],
   "source": [
    "import numpy_financial as npf"
   ]
  },
  {
   "cell_type": "code",
   "execution_count": 39,
   "id": "1274d351",
   "metadata": {},
   "outputs": [
    {
     "name": "stdout",
     "output_type": "stream",
     "text": [
      "Requirement already satisfied: dataframe in /Users/mikhararamsing/opt/anaconda3/envs/dev/lib/python3.9/site-packages (0.2.1.3)\n",
      "Requirement already satisfied: sphinx>=1.4.5 in /Users/mikhararamsing/opt/anaconda3/envs/dev/lib/python3.9/site-packages (from dataframe) (3.5.4)\n",
      "Requirement already satisfied: nose==1.3.7 in /Users/mikhararamsing/opt/anaconda3/envs/dev/lib/python3.9/site-packages (from dataframe) (1.3.7)\n",
      "Requirement already satisfied: scipy>=0.18.0 in /Users/mikhararamsing/opt/anaconda3/envs/dev/lib/python3.9/site-packages (from dataframe) (1.6.2)\n",
      "Requirement already satisfied: numpy>=1.11.0 in /Users/mikhararamsing/opt/anaconda3/envs/dev/lib/python3.9/site-packages (from dataframe) (1.19.2)\n",
      "Requirement already satisfied: pytest>=2.9.2 in /Users/mikhararamsing/opt/anaconda3/envs/dev/lib/python3.9/site-packages (from dataframe) (6.2.3)\n",
      "Requirement already satisfied: tabulate>=0.7.7 in /Users/mikhararamsing/opt/anaconda3/envs/dev/lib/python3.9/site-packages (from dataframe) (0.8.9)\n",
      "Requirement already satisfied: py>=1.8.2 in /Users/mikhararamsing/opt/anaconda3/envs/dev/lib/python3.9/site-packages (from pytest>=2.9.2->dataframe) (1.10.0)\n",
      "Requirement already satisfied: pluggy<1.0.0a1,>=0.12 in /Users/mikhararamsing/opt/anaconda3/envs/dev/lib/python3.9/site-packages (from pytest>=2.9.2->dataframe) (0.13.1)\n",
      "Requirement already satisfied: toml in /Users/mikhararamsing/opt/anaconda3/envs/dev/lib/python3.9/site-packages (from pytest>=2.9.2->dataframe) (0.10.2)\n",
      "Requirement already satisfied: iniconfig in /Users/mikhararamsing/opt/anaconda3/envs/dev/lib/python3.9/site-packages (from pytest>=2.9.2->dataframe) (1.1.1)\n",
      "Requirement already satisfied: attrs>=19.2.0 in /Users/mikhararamsing/opt/anaconda3/envs/dev/lib/python3.9/site-packages (from pytest>=2.9.2->dataframe) (20.3.0)\n",
      "Requirement already satisfied: packaging in /Users/mikhararamsing/opt/anaconda3/envs/dev/lib/python3.9/site-packages (from pytest>=2.9.2->dataframe) (20.9)\n",
      "Requirement already satisfied: requests>=2.5.0 in /Users/mikhararamsing/opt/anaconda3/envs/dev/lib/python3.9/site-packages (from sphinx>=1.4.5->dataframe) (2.25.1)\n",
      "Requirement already satisfied: docutils<0.17,>=0.12 in /Users/mikhararamsing/opt/anaconda3/envs/dev/lib/python3.9/site-packages (from sphinx>=1.4.5->dataframe) (0.16)\n",
      "Requirement already satisfied: sphinxcontrib-jsmath in /Users/mikhararamsing/opt/anaconda3/envs/dev/lib/python3.9/site-packages (from sphinx>=1.4.5->dataframe) (1.0.1)\n",
      "Requirement already satisfied: sphinxcontrib-devhelp in /Users/mikhararamsing/opt/anaconda3/envs/dev/lib/python3.9/site-packages (from sphinx>=1.4.5->dataframe) (1.0.2)\n",
      "Requirement already satisfied: sphinxcontrib-htmlhelp in /Users/mikhararamsing/opt/anaconda3/envs/dev/lib/python3.9/site-packages (from sphinx>=1.4.5->dataframe) (1.0.3)\n",
      "Requirement already satisfied: Jinja2>=2.3 in /Users/mikhararamsing/opt/anaconda3/envs/dev/lib/python3.9/site-packages (from sphinx>=1.4.5->dataframe) (2.11.3)\n",
      "Requirement already satisfied: babel>=1.3 in /Users/mikhararamsing/opt/anaconda3/envs/dev/lib/python3.9/site-packages (from sphinx>=1.4.5->dataframe) (2.9.0)\n",
      "Requirement already satisfied: setuptools in /Users/mikhararamsing/opt/anaconda3/envs/dev/lib/python3.9/site-packages (from sphinx>=1.4.5->dataframe) (52.0.0.post20210125)\n",
      "Requirement already satisfied: alabaster<0.8,>=0.7 in /Users/mikhararamsing/opt/anaconda3/envs/dev/lib/python3.9/site-packages (from sphinx>=1.4.5->dataframe) (0.7.12)\n",
      "Requirement already satisfied: sphinxcontrib-serializinghtml in /Users/mikhararamsing/opt/anaconda3/envs/dev/lib/python3.9/site-packages (from sphinx>=1.4.5->dataframe) (1.1.4)\n",
      "Requirement already satisfied: sphinxcontrib-qthelp in /Users/mikhararamsing/opt/anaconda3/envs/dev/lib/python3.9/site-packages (from sphinx>=1.4.5->dataframe) (1.0.3)\n",
      "Requirement already satisfied: sphinxcontrib-applehelp in /Users/mikhararamsing/opt/anaconda3/envs/dev/lib/python3.9/site-packages (from sphinx>=1.4.5->dataframe) (1.0.2)\n",
      "Requirement already satisfied: Pygments>=2.0 in /Users/mikhararamsing/opt/anaconda3/envs/dev/lib/python3.9/site-packages (from sphinx>=1.4.5->dataframe) (2.8.1)\n",
      "Requirement already satisfied: imagesize in /Users/mikhararamsing/opt/anaconda3/envs/dev/lib/python3.9/site-packages (from sphinx>=1.4.5->dataframe) (1.2.0)\n",
      "Requirement already satisfied: snowballstemmer>=1.1 in /Users/mikhararamsing/opt/anaconda3/envs/dev/lib/python3.9/site-packages (from sphinx>=1.4.5->dataframe) (2.1.0)\n",
      "Requirement already satisfied: pytz>=2015.7 in /Users/mikhararamsing/opt/anaconda3/envs/dev/lib/python3.9/site-packages (from babel>=1.3->sphinx>=1.4.5->dataframe) (2021.1)\n",
      "Requirement already satisfied: MarkupSafe>=0.23 in /Users/mikhararamsing/opt/anaconda3/envs/dev/lib/python3.9/site-packages (from Jinja2>=2.3->sphinx>=1.4.5->dataframe) (1.1.1)\n",
      "Requirement already satisfied: urllib3<1.27,>=1.21.1 in /Users/mikhararamsing/opt/anaconda3/envs/dev/lib/python3.9/site-packages (from requests>=2.5.0->sphinx>=1.4.5->dataframe) (1.26.4)\n",
      "Requirement already satisfied: chardet<5,>=3.0.2 in /Users/mikhararamsing/opt/anaconda3/envs/dev/lib/python3.9/site-packages (from requests>=2.5.0->sphinx>=1.4.5->dataframe) (4.0.0)\n",
      "Requirement already satisfied: certifi>=2017.4.17 in /Users/mikhararamsing/opt/anaconda3/envs/dev/lib/python3.9/site-packages (from requests>=2.5.0->sphinx>=1.4.5->dataframe) (2020.12.5)\n",
      "Requirement already satisfied: idna<3,>=2.5 in /Users/mikhararamsing/opt/anaconda3/envs/dev/lib/python3.9/site-packages (from requests>=2.5.0->sphinx>=1.4.5->dataframe) (2.10)\n",
      "Requirement already satisfied: pyparsing>=2.0.2 in /Users/mikhararamsing/opt/anaconda3/envs/dev/lib/python3.9/site-packages (from packaging->pytest>=2.9.2->dataframe) (2.4.7)\n"
     ]
    }
   ],
   "source": [
    "!pip install dataframe"
   ]
  },
  {
   "cell_type": "code",
   "execution_count": null,
   "id": "2ecd1e46",
   "metadata": {},
   "outputs": [],
   "source": []
  },
  {
   "cell_type": "code",
   "execution_count": 40,
   "id": "cab7318e",
   "metadata": {},
   "outputs": [],
   "source": [
    "#path = Path('Unit-2-Homework-Assignment/python-homework/PyBank/week_2_homework_PyBank_Resources_budget_data.csv')"
   ]
  },
  {
   "cell_type": "code",
   "execution_count": 43,
   "id": "bf24e928",
   "metadata": {},
   "outputs": [
    {
     "name": "stdout",
     "output_type": "stream",
     "text": [
      "/Users/mikhararamsing/Unit-2-Homework-Assignment/python-homework\n"
     ]
    }
   ],
   "source": [
    "import os\n",
    "path = os.getcwd()\n",
    "print(path)"
   ]
  },
  {
   "cell_type": "code",
   "execution_count": 45,
   "id": "9b04cdb3",
   "metadata": {},
   "outputs": [
    {
     "ename": "FileNotFoundError",
     "evalue": "[Errno 2] No such file or directory: 'Unit-2-Homework-Assignment/python-homework/PyBank/week_2_homework_PyBank_Resources_budget_data.csv'",
     "output_type": "error",
     "traceback": [
      "\u001b[0;31m---------------------------------------------------------------------------\u001b[0m",
      "\u001b[0;31mFileNotFoundError\u001b[0m                         Traceback (most recent call last)",
      "\u001b[0;32m<ipython-input-45-626fcd2ef325>\u001b[0m in \u001b[0;36m<module>\u001b[0;34m\u001b[0m\n\u001b[0;32m----> 1\u001b[0;31m \u001b[0mdf\u001b[0m \u001b[0;34m=\u001b[0m \u001b[0mpd\u001b[0m\u001b[0;34m.\u001b[0m\u001b[0mread_csv\u001b[0m\u001b[0;34m(\u001b[0m\u001b[0;34m'Unit-2-Homework-Assignment/python-homework/PyBank/week_2_homework_PyBank_Resources_budget_data.csv'\u001b[0m\u001b[0;34m)\u001b[0m\u001b[0;34m\u001b[0m\u001b[0;34m\u001b[0m\u001b[0m\n\u001b[0m",
      "\u001b[0;32m~/opt/anaconda3/envs/dev/lib/python3.9/site-packages/pandas/io/parsers.py\u001b[0m in \u001b[0;36mread_csv\u001b[0;34m(filepath_or_buffer, sep, delimiter, header, names, index_col, usecols, squeeze, prefix, mangle_dupe_cols, dtype, engine, converters, true_values, false_values, skipinitialspace, skiprows, skipfooter, nrows, na_values, keep_default_na, na_filter, verbose, skip_blank_lines, parse_dates, infer_datetime_format, keep_date_col, date_parser, dayfirst, cache_dates, iterator, chunksize, compression, thousands, decimal, lineterminator, quotechar, quoting, doublequote, escapechar, comment, encoding, dialect, error_bad_lines, warn_bad_lines, delim_whitespace, low_memory, memory_map, float_precision, storage_options)\u001b[0m\n\u001b[1;32m    608\u001b[0m     \u001b[0mkwds\u001b[0m\u001b[0;34m.\u001b[0m\u001b[0mupdate\u001b[0m\u001b[0;34m(\u001b[0m\u001b[0mkwds_defaults\u001b[0m\u001b[0;34m)\u001b[0m\u001b[0;34m\u001b[0m\u001b[0;34m\u001b[0m\u001b[0m\n\u001b[1;32m    609\u001b[0m \u001b[0;34m\u001b[0m\u001b[0m\n\u001b[0;32m--> 610\u001b[0;31m     \u001b[0;32mreturn\u001b[0m \u001b[0m_read\u001b[0m\u001b[0;34m(\u001b[0m\u001b[0mfilepath_or_buffer\u001b[0m\u001b[0;34m,\u001b[0m \u001b[0mkwds\u001b[0m\u001b[0;34m)\u001b[0m\u001b[0;34m\u001b[0m\u001b[0;34m\u001b[0m\u001b[0m\n\u001b[0m\u001b[1;32m    611\u001b[0m \u001b[0;34m\u001b[0m\u001b[0m\n\u001b[1;32m    612\u001b[0m \u001b[0;34m\u001b[0m\u001b[0m\n",
      "\u001b[0;32m~/opt/anaconda3/envs/dev/lib/python3.9/site-packages/pandas/io/parsers.py\u001b[0m in \u001b[0;36m_read\u001b[0;34m(filepath_or_buffer, kwds)\u001b[0m\n\u001b[1;32m    460\u001b[0m \u001b[0;34m\u001b[0m\u001b[0m\n\u001b[1;32m    461\u001b[0m     \u001b[0;31m# Create the parser.\u001b[0m\u001b[0;34m\u001b[0m\u001b[0;34m\u001b[0m\u001b[0;34m\u001b[0m\u001b[0m\n\u001b[0;32m--> 462\u001b[0;31m     \u001b[0mparser\u001b[0m \u001b[0;34m=\u001b[0m \u001b[0mTextFileReader\u001b[0m\u001b[0;34m(\u001b[0m\u001b[0mfilepath_or_buffer\u001b[0m\u001b[0;34m,\u001b[0m \u001b[0;34m**\u001b[0m\u001b[0mkwds\u001b[0m\u001b[0;34m)\u001b[0m\u001b[0;34m\u001b[0m\u001b[0;34m\u001b[0m\u001b[0m\n\u001b[0m\u001b[1;32m    463\u001b[0m \u001b[0;34m\u001b[0m\u001b[0m\n\u001b[1;32m    464\u001b[0m     \u001b[0;32mif\u001b[0m \u001b[0mchunksize\u001b[0m \u001b[0;32mor\u001b[0m \u001b[0miterator\u001b[0m\u001b[0;34m:\u001b[0m\u001b[0;34m\u001b[0m\u001b[0;34m\u001b[0m\u001b[0m\n",
      "\u001b[0;32m~/opt/anaconda3/envs/dev/lib/python3.9/site-packages/pandas/io/parsers.py\u001b[0m in \u001b[0;36m__init__\u001b[0;34m(self, f, engine, **kwds)\u001b[0m\n\u001b[1;32m    817\u001b[0m             \u001b[0mself\u001b[0m\u001b[0;34m.\u001b[0m\u001b[0moptions\u001b[0m\u001b[0;34m[\u001b[0m\u001b[0;34m\"has_index_names\"\u001b[0m\u001b[0;34m]\u001b[0m \u001b[0;34m=\u001b[0m \u001b[0mkwds\u001b[0m\u001b[0;34m[\u001b[0m\u001b[0;34m\"has_index_names\"\u001b[0m\u001b[0;34m]\u001b[0m\u001b[0;34m\u001b[0m\u001b[0;34m\u001b[0m\u001b[0m\n\u001b[1;32m    818\u001b[0m \u001b[0;34m\u001b[0m\u001b[0m\n\u001b[0;32m--> 819\u001b[0;31m         \u001b[0mself\u001b[0m\u001b[0;34m.\u001b[0m\u001b[0m_engine\u001b[0m \u001b[0;34m=\u001b[0m \u001b[0mself\u001b[0m\u001b[0;34m.\u001b[0m\u001b[0m_make_engine\u001b[0m\u001b[0;34m(\u001b[0m\u001b[0mself\u001b[0m\u001b[0;34m.\u001b[0m\u001b[0mengine\u001b[0m\u001b[0;34m)\u001b[0m\u001b[0;34m\u001b[0m\u001b[0;34m\u001b[0m\u001b[0m\n\u001b[0m\u001b[1;32m    820\u001b[0m \u001b[0;34m\u001b[0m\u001b[0m\n\u001b[1;32m    821\u001b[0m     \u001b[0;32mdef\u001b[0m \u001b[0mclose\u001b[0m\u001b[0;34m(\u001b[0m\u001b[0mself\u001b[0m\u001b[0;34m)\u001b[0m\u001b[0;34m:\u001b[0m\u001b[0;34m\u001b[0m\u001b[0;34m\u001b[0m\u001b[0m\n",
      "\u001b[0;32m~/opt/anaconda3/envs/dev/lib/python3.9/site-packages/pandas/io/parsers.py\u001b[0m in \u001b[0;36m_make_engine\u001b[0;34m(self, engine)\u001b[0m\n\u001b[1;32m   1048\u001b[0m             )\n\u001b[1;32m   1049\u001b[0m         \u001b[0;31m# error: Too many arguments for \"ParserBase\"\u001b[0m\u001b[0;34m\u001b[0m\u001b[0;34m\u001b[0m\u001b[0;34m\u001b[0m\u001b[0m\n\u001b[0;32m-> 1050\u001b[0;31m         \u001b[0;32mreturn\u001b[0m \u001b[0mmapping\u001b[0m\u001b[0;34m[\u001b[0m\u001b[0mengine\u001b[0m\u001b[0;34m]\u001b[0m\u001b[0;34m(\u001b[0m\u001b[0mself\u001b[0m\u001b[0;34m.\u001b[0m\u001b[0mf\u001b[0m\u001b[0;34m,\u001b[0m \u001b[0;34m**\u001b[0m\u001b[0mself\u001b[0m\u001b[0;34m.\u001b[0m\u001b[0moptions\u001b[0m\u001b[0;34m)\u001b[0m  \u001b[0;31m# type: ignore[call-arg]\u001b[0m\u001b[0;34m\u001b[0m\u001b[0;34m\u001b[0m\u001b[0m\n\u001b[0m\u001b[1;32m   1051\u001b[0m \u001b[0;34m\u001b[0m\u001b[0m\n\u001b[1;32m   1052\u001b[0m     \u001b[0;32mdef\u001b[0m \u001b[0m_failover_to_python\u001b[0m\u001b[0;34m(\u001b[0m\u001b[0mself\u001b[0m\u001b[0;34m)\u001b[0m\u001b[0;34m:\u001b[0m\u001b[0;34m\u001b[0m\u001b[0;34m\u001b[0m\u001b[0m\n",
      "\u001b[0;32m~/opt/anaconda3/envs/dev/lib/python3.9/site-packages/pandas/io/parsers.py\u001b[0m in \u001b[0;36m__init__\u001b[0;34m(self, src, **kwds)\u001b[0m\n\u001b[1;32m   1865\u001b[0m \u001b[0;34m\u001b[0m\u001b[0m\n\u001b[1;32m   1866\u001b[0m         \u001b[0;31m# open handles\u001b[0m\u001b[0;34m\u001b[0m\u001b[0;34m\u001b[0m\u001b[0;34m\u001b[0m\u001b[0m\n\u001b[0;32m-> 1867\u001b[0;31m         \u001b[0mself\u001b[0m\u001b[0;34m.\u001b[0m\u001b[0m_open_handles\u001b[0m\u001b[0;34m(\u001b[0m\u001b[0msrc\u001b[0m\u001b[0;34m,\u001b[0m \u001b[0mkwds\u001b[0m\u001b[0;34m)\u001b[0m\u001b[0;34m\u001b[0m\u001b[0;34m\u001b[0m\u001b[0m\n\u001b[0m\u001b[1;32m   1868\u001b[0m         \u001b[0;32massert\u001b[0m \u001b[0mself\u001b[0m\u001b[0;34m.\u001b[0m\u001b[0mhandles\u001b[0m \u001b[0;32mis\u001b[0m \u001b[0;32mnot\u001b[0m \u001b[0;32mNone\u001b[0m\u001b[0;34m\u001b[0m\u001b[0;34m\u001b[0m\u001b[0m\n\u001b[1;32m   1869\u001b[0m         \u001b[0;32mfor\u001b[0m \u001b[0mkey\u001b[0m \u001b[0;32min\u001b[0m \u001b[0;34m(\u001b[0m\u001b[0;34m\"storage_options\"\u001b[0m\u001b[0;34m,\u001b[0m \u001b[0;34m\"encoding\"\u001b[0m\u001b[0;34m,\u001b[0m \u001b[0;34m\"memory_map\"\u001b[0m\u001b[0;34m,\u001b[0m \u001b[0;34m\"compression\"\u001b[0m\u001b[0;34m)\u001b[0m\u001b[0;34m:\u001b[0m\u001b[0;34m\u001b[0m\u001b[0;34m\u001b[0m\u001b[0m\n",
      "\u001b[0;32m~/opt/anaconda3/envs/dev/lib/python3.9/site-packages/pandas/io/parsers.py\u001b[0m in \u001b[0;36m_open_handles\u001b[0;34m(self, src, kwds)\u001b[0m\n\u001b[1;32m   1360\u001b[0m         \u001b[0mLet\u001b[0m \u001b[0mthe\u001b[0m \u001b[0mreaders\u001b[0m \u001b[0mopen\u001b[0m \u001b[0mIOHanldes\u001b[0m \u001b[0mafter\u001b[0m \u001b[0mthey\u001b[0m \u001b[0mare\u001b[0m \u001b[0mdone\u001b[0m \u001b[0;32mwith\u001b[0m \u001b[0mtheir\u001b[0m \u001b[0mpotential\u001b[0m \u001b[0mraises\u001b[0m\u001b[0;34m.\u001b[0m\u001b[0;34m\u001b[0m\u001b[0;34m\u001b[0m\u001b[0m\n\u001b[1;32m   1361\u001b[0m         \"\"\"\n\u001b[0;32m-> 1362\u001b[0;31m         self.handles = get_handle(\n\u001b[0m\u001b[1;32m   1363\u001b[0m             \u001b[0msrc\u001b[0m\u001b[0;34m,\u001b[0m\u001b[0;34m\u001b[0m\u001b[0;34m\u001b[0m\u001b[0m\n\u001b[1;32m   1364\u001b[0m             \u001b[0;34m\"r\"\u001b[0m\u001b[0;34m,\u001b[0m\u001b[0;34m\u001b[0m\u001b[0;34m\u001b[0m\u001b[0m\n",
      "\u001b[0;32m~/opt/anaconda3/envs/dev/lib/python3.9/site-packages/pandas/io/common.py\u001b[0m in \u001b[0;36mget_handle\u001b[0;34m(path_or_buf, mode, encoding, compression, memory_map, is_text, errors, storage_options)\u001b[0m\n\u001b[1;32m    640\u001b[0m                 \u001b[0merrors\u001b[0m \u001b[0;34m=\u001b[0m \u001b[0;34m\"replace\"\u001b[0m\u001b[0;34m\u001b[0m\u001b[0;34m\u001b[0m\u001b[0m\n\u001b[1;32m    641\u001b[0m             \u001b[0;31m# Encoding\u001b[0m\u001b[0;34m\u001b[0m\u001b[0;34m\u001b[0m\u001b[0;34m\u001b[0m\u001b[0m\n\u001b[0;32m--> 642\u001b[0;31m             handle = open(\n\u001b[0m\u001b[1;32m    643\u001b[0m                 \u001b[0mhandle\u001b[0m\u001b[0;34m,\u001b[0m\u001b[0;34m\u001b[0m\u001b[0;34m\u001b[0m\u001b[0m\n\u001b[1;32m    644\u001b[0m                 \u001b[0mioargs\u001b[0m\u001b[0;34m.\u001b[0m\u001b[0mmode\u001b[0m\u001b[0;34m,\u001b[0m\u001b[0;34m\u001b[0m\u001b[0;34m\u001b[0m\u001b[0m\n",
      "\u001b[0;31mFileNotFoundError\u001b[0m: [Errno 2] No such file or directory: 'Unit-2-Homework-Assignment/python-homework/PyBank/week_2_homework_PyBank_Resources_budget_data.csv'"
     ]
    }
   ],
   "source": [
    "df = pd.read_csv('Unit-2-Homework-Assignment/python-homework/PyBank/week_2_homework_PyBank_Resources_budget_data.csv')"
   ]
  },
  {
   "cell_type": "code",
   "execution_count": null,
   "id": "c0bb1875",
   "metadata": {},
   "outputs": [],
   "source": []
  }
 ],
 "metadata": {
  "kernelspec": {
   "display_name": "Python 3",
   "language": "python",
   "name": "python3"
  },
  "language_info": {
   "codemirror_mode": {
    "name": "ipython",
    "version": 3
   },
   "file_extension": ".py",
   "mimetype": "text/x-python",
   "name": "python",
   "nbconvert_exporter": "python",
   "pygments_lexer": "ipython3",
   "version": "3.9.2"
  }
 },
 "nbformat": 4,
 "nbformat_minor": 5
}
