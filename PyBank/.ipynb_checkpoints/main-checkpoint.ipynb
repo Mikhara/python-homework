{
 "cells": [
  {
   "cell_type": "code",
   "execution_count": 44,
   "id": "5a6753ff",
   "metadata": {},
   "outputs": [],
   "source": [
    "# initial imports\n",
    "import numpy_financial as npf\n",
    "import numpy as np\n",
    "import pandas as pd\n",
    "from pathlib import Path"
   ]
  },
  {
   "cell_type": "code",
   "execution_count": 45,
   "id": "22fd6890",
   "metadata": {},
   "outputs": [],
   "source": [
    "# set the file path\n",
    "csvpath = Path('budget_data.csv')\n",
    "\n",
    "# create a Pandas dataframe from a csv file\n",
    "df = pd.read_csv(csvpath)"
   ]
  },
  {
   "cell_type": "code",
   "execution_count": 46,
   "id": "f35af484",
   "metadata": {},
   "outputs": [
    {
     "data": {
      "text/plain": [
       "(86, 2)"
      ]
     },
     "execution_count": 46,
     "metadata": {},
     "output_type": "execute_result"
    }
   ],
   "source": [
    "# Number of rows and columns in Dataframe\n",
    "df.shape"
   ]
  },
  {
   "cell_type": "code",
   "execution_count": 47,
   "id": "421c1c91",
   "metadata": {},
   "outputs": [
    {
     "data": {
      "text/html": [
       "<div>\n",
       "<style scoped>\n",
       "    .dataframe tbody tr th:only-of-type {\n",
       "        vertical-align: middle;\n",
       "    }\n",
       "\n",
       "    .dataframe tbody tr th {\n",
       "        vertical-align: top;\n",
       "    }\n",
       "\n",
       "    .dataframe thead th {\n",
       "        text-align: right;\n",
       "    }\n",
       "</style>\n",
       "<table border=\"1\" class=\"dataframe\">\n",
       "  <thead>\n",
       "    <tr style=\"text-align: right;\">\n",
       "      <th></th>\n",
       "      <th>Date</th>\n",
       "      <th>Profit/Losses</th>\n",
       "    </tr>\n",
       "  </thead>\n",
       "  <tbody>\n",
       "    <tr>\n",
       "      <th>31</th>\n",
       "      <td>Aug-2012</td>\n",
       "      <td>-1022534</td>\n",
       "    </tr>\n",
       "  </tbody>\n",
       "</table>\n",
       "</div>"
      ],
      "text/plain": [
       "        Date  Profit/Losses\n",
       "31  Aug-2012       -1022534"
      ]
     },
     "execution_count": 47,
     "metadata": {},
     "output_type": "execute_result"
    }
   ],
   "source": [
    "# Visual sample to ensure data has loaded correctly\n",
    "df.sample()"
   ]
  },
  {
   "cell_type": "code",
   "execution_count": 48,
   "id": "67dc3491",
   "metadata": {},
   "outputs": [
    {
     "data": {
      "text/plain": [
       "86"
      ]
     },
     "execution_count": 48,
     "metadata": {},
     "output_type": "execute_result"
    }
   ],
   "source": [
    "# Identify number of rows in 'Date' column\n",
    "df['Date'].count()"
   ]
  },
  {
   "cell_type": "code",
   "execution_count": 49,
   "id": "11f07aa5",
   "metadata": {},
   "outputs": [
    {
     "data": {
      "text/plain": [
       "38382578"
      ]
     },
     "execution_count": 49,
     "metadata": {},
     "output_type": "execute_result"
    }
   ],
   "source": [
    "# Sum of rows in 'Profit/Losses' column\n",
    "df['Profit/Losses'].sum()"
   ]
  },
  {
   "cell_type": "code",
   "execution_count": 50,
   "id": "2aac0699",
   "metadata": {},
   "outputs": [
    {
     "data": {
      "text/plain": [
       "Date             object\n",
       "Profit/Losses     int64\n",
       "dtype: object"
      ]
     },
     "execution_count": 50,
     "metadata": {},
     "output_type": "execute_result"
    }
   ],
   "source": [
    "#Identify data types in dataframe\n",
    "df.dtypes"
   ]
  },
  {
   "cell_type": "code",
   "execution_count": 55,
   "id": "f8779fd0",
   "metadata": {},
   "outputs": [],
   "source": [
    "#Change Profit/Lossess to float variable\n",
    "df['Profit/Losses'] = df['Profit/Losses'].astype(float)"
   ]
  },
  {
   "cell_type": "code",
   "execution_count": 56,
   "id": "0e9d31dd",
   "metadata": {},
   "outputs": [
    {
     "data": {
      "text/plain": [
       "Date              object\n",
       "Profit/Losses    float64\n",
       "dtype: object"
      ]
     },
     "execution_count": 56,
     "metadata": {},
     "output_type": "execute_result"
    }
   ],
   "source": [
    "# Check Profit/Lossess is a float variable\n",
    "df.dtypes"
   ]
  },
  {
   "cell_type": "code",
   "execution_count": 53,
   "id": "9923d110",
   "metadata": {},
   "outputs": [],
   "source": [
    "#Calculate nth discrete difference along an axis\n",
    "#df['Profit/Losses'].diff(1)"
   ]
  },
  {
   "cell_type": "code",
   "execution_count": 61,
   "id": "5bb288b9",
   "metadata": {},
   "outputs": [],
   "source": [
    "# Intialise 'Profit/Lossess' column as a list.\n",
    "list_a = df.iloc[:,1]\n",
    "a = np.array(list_a)\n",
    "diffs = np.diff(a)"
   ]
  },
  {
   "cell_type": "code",
   "execution_count": 65,
   "id": "30f6cab3",
   "metadata": {
    "tags": []
   },
   "outputs": [
    {
     "data": {
      "text/plain": [
       "-2315.12"
      ]
     },
     "execution_count": 65,
     "metadata": {},
     "output_type": "execute_result"
    }
   ],
   "source": [
    "#Find average of difference\n",
    "round (sum(diffs)/len(diffs),2)"
   ]
  },
  {
   "cell_type": "code",
   "execution_count": 72,
   "id": "eb4cbc5b",
   "metadata": {},
   "outputs": [
    {
     "data": {
      "text/plain": [
       "1926159.0"
      ]
     },
     "execution_count": 72,
     "metadata": {},
     "output_type": "execute_result"
    }
   ],
   "source": [
    "#Greatest increase in profit (date and amount)\n",
    "np.amax(diffs)"
   ]
  },
  {
   "cell_type": "code",
   "execution_count": 92,
   "id": "0b0477c2",
   "metadata": {},
   "outputs": [
    {
     "data": {
      "text/plain": [
       "24"
      ]
     },
     "execution_count": 92,
     "metadata": {},
     "output_type": "execute_result"
    }
   ],
   "source": [
    "#Find index of greatest increase\n",
    "np.argmax(diffs, axis=0)"
   ]
  },
  {
   "cell_type": "code",
   "execution_count": 104,
   "id": "b8556e7c",
   "metadata": {},
   "outputs": [
    {
     "data": {
      "text/plain": [
       "'Feb-2012'"
      ]
     },
     "execution_count": 104,
     "metadata": {},
     "output_type": "execute_result"
    }
   ],
   "source": [
    "#Noting that python starts at 0\n",
    "df.iloc[25,0]"
   ]
  },
  {
   "cell_type": "code",
   "execution_count": 73,
   "id": "da0dff84",
   "metadata": {
    "tags": []
   },
   "outputs": [
    {
     "data": {
      "text/plain": [
       "-2196167.0"
      ]
     },
     "execution_count": 73,
     "metadata": {},
     "output_type": "execute_result"
    }
   ],
   "source": [
    "#Greatest decrease in profit (date and amount)\n",
    "np.amin(diffs)"
   ]
  },
  {
   "cell_type": "code",
   "execution_count": 89,
   "id": "5b228eed",
   "metadata": {},
   "outputs": [
    {
     "data": {
      "text/plain": [
       "43"
      ]
     },
     "execution_count": 89,
     "metadata": {},
     "output_type": "execute_result"
    }
   ],
   "source": [
    "#Find index of greatest decrease\n",
    "np.argmin(diffs, axis=0)"
   ]
  },
  {
   "cell_type": "code",
   "execution_count": 105,
   "id": "2fb7552c",
   "metadata": {},
   "outputs": [
    {
     "data": {
      "text/plain": [
       "'Sep-2013'"
      ]
     },
     "execution_count": 105,
     "metadata": {},
     "output_type": "execute_result"
    }
   ],
   "source": [
    "#Noting that python starts at 0\n",
    "df.iloc[44,0]"
   ]
  },
  {
   "cell_type": "code",
   "execution_count": 109,
   "id": "6494e351",
   "metadata": {
    "tags": []
   },
   "outputs": [
    {
     "name": "stdout",
     "output_type": "stream",
     "text": [
      "Total Months: 86\n",
      "Total: $38382578.0\n",
      "Average Change: $-2315.12\n",
      "Greatest increase in Profits: Feb-2012 ($1926159.0)\n",
      "Greatest decrease in Profits: Sep-2013 ($-2196167.0)\n"
     ]
    }
   ],
   "source": [
    "print(f\"Total Months: {df['Date'].count()}\")\n",
    "print(f\"Total: ${df['Profit/Losses'].sum()}\")\n",
    "print(f\"Average Change: ${round (sum(diffs)/len(diffs),2)}\")\n",
    "print(f\"Greatest increase in Profits: {df.iloc[25,0]} (${np.amax(diffs)})\")\n",
    "print(f\"Greatest decrease in Profits: {df.iloc[44,0]} (${np.amin(diffs)})\")"
   ]
  },
  {
   "cell_type": "code",
   "execution_count": 111,
   "id": "4b2cfcfd",
   "metadata": {},
   "outputs": [],
   "source": [
    "answer_string = \"Total Months: 86 /n\""
   ]
  },
  {
   "cell_type": "code",
   "execution_count": 112,
   "id": "233ce69e",
   "metadata": {},
   "outputs": [],
   "source": [
    "answer_string += \"Total: $38382578.0 /n\""
   ]
  },
  {
   "cell_type": "code",
   "execution_count": 113,
   "id": "bbd2dd64",
   "metadata": {},
   "outputs": [],
   "source": [
    "answer_string += \"Average Change: $-2315.12 /n\""
   ]
  },
  {
   "cell_type": "code",
   "execution_count": 114,
   "id": "d0a3ec5f",
   "metadata": {
    "tags": []
   },
   "outputs": [],
   "source": [
    "answer_string += \"Greatest increase in Profits: Feb-2012 ($1926159.0) /n\""
   ]
  },
  {
   "cell_type": "code",
   "execution_count": 115,
   "id": "678c8ee0",
   "metadata": {},
   "outputs": [],
   "source": [
    "answer_string += \"Greatest decrease in Profits: Sep-2013 ($-2196167.0) /n\""
   ]
  },
  {
   "cell_type": "code",
   "execution_count": 116,
   "id": "5d6b7c38",
   "metadata": {},
   "outputs": [],
   "source": [
    "with open ('results.text','w') as text_file:\n",
    "    text_file.write(answer_string)"
   ]
  },
  {
   "cell_type": "code",
   "execution_count": null,
   "id": "00c40832",
   "metadata": {},
   "outputs": [],
   "source": []
  }
 ],
 "metadata": {
  "kernelspec": {
   "display_name": "Python 3",
   "language": "python",
   "name": "python3"
  },
  "language_info": {
   "codemirror_mode": {
    "name": "ipython",
    "version": 3
   },
   "file_extension": ".py",
   "mimetype": "text/x-python",
   "name": "python",
   "nbconvert_exporter": "python",
   "pygments_lexer": "ipython3",
   "version": "3.9.2"
  }
 },
 "nbformat": 4,
 "nbformat_minor": 5
}
