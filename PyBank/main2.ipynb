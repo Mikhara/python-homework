{
 "cells": [
  {
   "cell_type": "code",
   "execution_count": 1,
   "id": "f2cd4c08",
   "metadata": {},
   "outputs": [],
   "source": [
    "import numpy as np\n",
    "import pandas as pd\n",
    "import numpy_financial as npf"
   ]
  },
  {
   "cell_type": "code",
   "execution_count": 2,
   "id": "0c9ffa6f",
   "metadata": {},
   "outputs": [],
   "source": [
    "from pathlib import Path\n",
    "import csv"
   ]
  },
  {
   "cell_type": "code",
   "execution_count": 3,
   "id": "de39e51b",
   "metadata": {},
   "outputs": [],
   "source": [
    "csvpath = Path(\"/Users/mikhararamsing/Unit-2-Homework-Assignment/python-homework/PyBank/week_2_homework_PyBank_Resources_budget_data.csv\")"
   ]
  },
  {
   "cell_type": "code",
   "execution_count": 4,
   "id": "08197d41",
   "metadata": {
    "tags": []
   },
   "outputs": [],
   "source": [
    "records = []"
   ]
  },
  {
   "cell_type": "code",
   "execution_count": 5,
   "id": "56445152",
   "metadata": {},
   "outputs": [],
   "source": [
    "count = 0\n",
    "total = 0"
   ]
  },
  {
   "cell_type": "code",
   "execution_count": 6,
   "id": "ce7d5fb0",
   "metadata": {},
   "outputs": [],
   "source": [
    "with open(csvpath, 'r') as csvfile:\n",
    "    csvreader = csv.reader(csvfile, delimiter=',')\n",
    "    csv_header = next(csvreader)\n",
    "    #print(csv_header)\n",
    "    for row in csvreader:\n",
    "        #print(row)\n",
    "        date = row[0]\n",
    "        pnl = int(row[1])\n",
    "        count += 1\n",
    "        total += pnl\n",
    "#type(date)\n",
    "#type(pnl)"
   ]
  },
  {
   "cell_type": "code",
   "execution_count": 7,
   "id": "040de212",
   "metadata": {},
   "outputs": [
    {
     "name": "stdout",
     "output_type": "stream",
     "text": [
      "Total Months: 86\n"
     ]
    }
   ],
   "source": [
    "print(f\"Total Months: {count}\")"
   ]
  },
  {
   "cell_type": "code",
   "execution_count": 8,
   "id": "76e2c789",
   "metadata": {},
   "outputs": [
    {
     "name": "stdout",
     "output_type": "stream",
     "text": [
      "The Net Total: $38382578\n"
     ]
    }
   ],
   "source": [
    "print(f\"The Net Total: ${total}\")"
   ]
  },
  {
   "cell_type": "code",
   "execution_count": 9,
   "id": "33cbb46a",
   "metadata": {},
   "outputs": [],
   "source": [
    "        average = round(total/count, 2)"
   ]
  },
  {
   "cell_type": "code",
   "execution_count": 10,
   "id": "48265cb5",
   "metadata": {},
   "outputs": [
    {
     "name": "stdout",
     "output_type": "stream",
     "text": [
      "446309.05\n"
     ]
    }
   ],
   "source": [
    "print(average)"
   ]
  },
  {
   "cell_type": "code",
   "execution_count": null,
   "id": "26614e8d",
   "metadata": {},
   "outputs": [],
   "source": []
  },
  {
   "cell_type": "code",
   "execution_count": null,
   "id": "7d9b0a02",
   "metadata": {},
   "outputs": [],
   "source": []
  }
 ],
 "metadata": {
  "kernelspec": {
   "display_name": "Python 3",
   "language": "python",
   "name": "python3"
  },
  "language_info": {
   "codemirror_mode": {
    "name": "ipython",
    "version": 3
   },
   "file_extension": ".py",
   "mimetype": "text/x-python",
   "name": "python",
   "nbconvert_exporter": "python",
   "pygments_lexer": "ipython3",
   "version": "3.9.2"
  }
 },
 "nbformat": 4,
 "nbformat_minor": 5
}
